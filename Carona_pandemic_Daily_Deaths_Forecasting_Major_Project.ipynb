{
  "nbformat": 4,
  "nbformat_minor": 0,
  "metadata": {
    "colab": {
      "name": "Carona_pandemic_Daily_Deaths_Forecasting Major Project.ipynb",
      "provenance": [],
      "collapsed_sections": [],
      "include_colab_link": true
    },
    "kernelspec": {
      "display_name": "Python 3",
      "language": "python",
      "name": "python3"
    },
    "language_info": {
      "codemirror_mode": {
        "name": "ipython",
        "version": 3
      },
      "file_extension": ".py",
      "mimetype": "text/x-python",
      "name": "python",
      "nbconvert_exporter": "python",
      "pygments_lexer": "ipython3",
      "version": "3.8.5"
    }
  },
  "cells": [
    {
      "cell_type": "markdown",
      "metadata": {
        "id": "view-in-github",
        "colab_type": "text"
      },
      "source": [
        "<a href=\"https://colab.research.google.com/github/lakshuguru/DS_major-project/blob/main/Carona_pandemic_Daily_Deaths_Forecasting_Major_Project.ipynb\" target=\"_parent\"><img src=\"https://colab.research.google.com/assets/colab-badge.svg\" alt=\"Open In Colab\"/></a>"
      ]
    },
    {
      "cell_type": "code",
      "metadata": {
        "id": "s9efEtwHuTQ9",
        "colab": {
          "resources": {
            "http://localhost:8080/nbextensions/google.colab/files.js": {
              "data": "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",
              "ok": true,
              "headers": [
                [
                  "content-type",
                  "application/javascript"
                ]
              ],
              "status": 200,
              "status_text": ""
            }
          },
          "base_uri": "https://localhost:8080/",
          "height": 73
        },
        "outputId": "4c0ba0cb-aaab-4782-e0cd-a2294bdb7f14"
      },
      "source": [
        "from google.colab import files\n",
        "uploaded = files.upload()"
      ],
      "execution_count": null,
      "outputs": [
        {
          "output_type": "display_data",
          "data": {
            "text/html": [
              "\n",
              "     <input type=\"file\" id=\"files-56c25db5-4ae9-4f8f-a7ef-4675d3746f96\" name=\"files[]\" multiple disabled\n",
              "        style=\"border:none\" />\n",
              "     <output id=\"result-56c25db5-4ae9-4f8f-a7ef-4675d3746f96\">\n",
              "      Upload widget is only available when the cell has been executed in the\n",
              "      current browser session. Please rerun this cell to enable.\n",
              "      </output>\n",
              "      <script src=\"/nbextensions/google.colab/files.js\"></script> "
            ],
            "text/plain": [
              "<IPython.core.display.HTML object>"
            ]
          },
          "metadata": {
            "tags": []
          }
        },
        {
          "output_type": "stream",
          "text": [
            "Saving owid-covid-data.xlsx to owid-covid-data.xlsx\n"
          ],
          "name": "stdout"
        }
      ]
    },
    {
      "cell_type": "code",
      "metadata": {
        "id": "P15aHpNsZ2Ha"
      },
      "source": [
        "import pandas as pd\n",
        "df=pd.read_excel('owid-covid-data.xlsx')"
      ],
      "execution_count": null,
      "outputs": []
    },
    {
      "cell_type": "code",
      "metadata": {
        "id": "rC-d9AEMi0Rb",
        "colab": {
          "base_uri": "https://localhost:8080/",
          "height": 53
        },
        "outputId": "d97ebd97-82db-408b-8193-666905604a54"
      },
      "source": [
        "#Questions\n",
        "'''•Which country/state is having highest number of cases?\n",
        "•Which country/state is having lowest number of cases?\n",
        "•Which country/state is having lowest number of deaths?\n",
        "•Which country/state is having highest number of deaths?\n",
        "•Which country/state is most vaccinated?\n",
        "'''"
      ],
      "execution_count": null,
      "outputs": [
        {
          "output_type": "execute_result",
          "data": {
            "application/vnd.google.colaboratory.intrinsic+json": {
              "type": "string"
            },
            "text/plain": [
              "'•Which country/state is having highest number of cases?\\n•Which country/state is having lowest number of cases?\\n•Which country/state is having lowest number of deaths?\\n•Which country/state is having highest number of deaths?\\n•Which country/state is most vaccinated?\\n'"
            ]
          },
          "metadata": {
            "tags": []
          },
          "execution_count": 3
        }
      ]
    },
    {
      "cell_type": "code",
      "metadata": {
        "id": "HamGr1lXi0Rd"
      },
      "source": [
        "#not countries\n",
        "a=['Asia','Africa','Europe','International','European Union','North America','South America','World']"
      ],
      "execution_count": null,
      "outputs": []
    },
    {
      "cell_type": "code",
      "metadata": {
        "id": "u6YctB2Ki0Rf"
      },
      "source": [
        "#removing rows with continents, world, international etc. Those which are not countries\n",
        "for i in list(df[df['location'].isin(a)].index):\n",
        "    df.drop([i],inplace=True)\n",
        "\n",
        "#sorting the dataframe according to the latest date of the Data set\n",
        "d=df[df['date']=='2021-06-05']"
      ],
      "execution_count": null,
      "outputs": []
    },
    {
      "cell_type": "code",
      "metadata": {
        "id": "Oy3iKSvEi0Rg",
        "colab": {
          "base_uri": "https://localhost:8080/"
        },
        "outputId": "e1a8816c-a779-4d29-a0cb-0282c56bec69"
      },
      "source": [
        "#country with highest number of cases\n",
        "list(d[d['total_cases']==max(d.total_cases)]['location'])"
      ],
      "execution_count": null,
      "outputs": [
        {
          "output_type": "execute_result",
          "data": {
            "text/plain": [
              "['United States']"
            ]
          },
          "metadata": {
            "tags": []
          },
          "execution_count": 6
        }
      ]
    },
    {
      "cell_type": "code",
      "metadata": {
        "id": "3ufkTteUi0Rh",
        "colab": {
          "base_uri": "https://localhost:8080/"
        },
        "outputId": "50382256-df52-46a3-b2a8-0cabc1b0a86a"
      },
      "source": [
        "#country with least number of cases\n",
        "list(d[d['total_cases']==min(d.total_cases)]['location'])"
      ],
      "execution_count": null,
      "outputs": [
        {
          "output_type": "execute_result",
          "data": {
            "text/plain": [
              "['Micronesia (country)']"
            ]
          },
          "metadata": {
            "tags": []
          },
          "execution_count": 7
        }
      ]
    },
    {
      "cell_type": "code",
      "metadata": {
        "id": "un1WES7Ci0Rh",
        "colab": {
          "base_uri": "https://localhost:8080/"
        },
        "outputId": "1214a158-c223-4e09-e31e-ef3d0d404eb8"
      },
      "source": [
        "#country with least number of deaths\n",
        "list(d[d['total_deaths']==min(d.total_deaths)]['location'])"
      ],
      "execution_count": null,
      "outputs": [
        {
          "output_type": "execute_result",
          "data": {
            "text/plain": [
              "['Bhutan', 'Grenada', 'Vanuatu']"
            ]
          },
          "metadata": {
            "tags": []
          },
          "execution_count": 8
        }
      ]
    },
    {
      "cell_type": "code",
      "metadata": {
        "id": "7h6nPlt7i0Ri",
        "colab": {
          "base_uri": "https://localhost:8080/"
        },
        "outputId": "bf6f2e67-4433-40b7-a6c5-790f909730c6"
      },
      "source": [
        "#country with highest number of deaths\n",
        "list(d[d['total_deaths']==max(d.total_deaths)]['location'])"
      ],
      "execution_count": null,
      "outputs": [
        {
          "output_type": "execute_result",
          "data": {
            "text/plain": [
              "['United States']"
            ]
          },
          "metadata": {
            "tags": []
          },
          "execution_count": 9
        }
      ]
    },
    {
      "cell_type": "code",
      "metadata": {
        "id": "zeqi6iHZi0Rk",
        "colab": {
          "base_uri": "https://localhost:8080/"
        },
        "outputId": "31d0bfd0-15ac-4bb4-994b-ab2c06171218"
      },
      "source": [
        "#country with most vaccinations\n",
        "list(d[d['total_vaccinations']==max(df[['location','total_vaccinations']].dropna().total_vaccinations)]['location'])"
      ],
      "execution_count": null,
      "outputs": [
        {
          "output_type": "execute_result",
          "data": {
            "text/plain": [
              "['China']"
            ]
          },
          "metadata": {
            "tags": []
          },
          "execution_count": 10
        }
      ]
    },
    {
      "cell_type": "code",
      "metadata": {
        "colab": {
          "base_uri": "https://localhost:8080/"
        },
        "id": "KxZ3v5DHwiUY",
        "outputId": "3a84179e-d176-4eae-b6fc-cf028ccc7301"
      },
      "source": [
        "df.shape"
      ],
      "execution_count": null,
      "outputs": [
        {
          "output_type": "execute_result",
          "data": {
            "text/plain": [
              "(89803, 59)"
            ]
          },
          "metadata": {
            "tags": []
          },
          "execution_count": 11
        }
      ]
    },
    {
      "cell_type": "code",
      "metadata": {
        "colab": {
          "base_uri": "https://localhost:8080/"
        },
        "id": "o-js1XSGyRCJ",
        "outputId": "73e848d6-cf40-46c6-ea53-0c1e9ba42d4a"
      },
      "source": [
        "df.isnull().sum()"
      ],
      "execution_count": null,
      "outputs": [
        {
          "output_type": "execute_result",
          "data": {
            "text/plain": [
              "iso_code                                     0\n",
              "continent                                  498\n",
              "location                                     0\n",
              "date                                         0\n",
              "total_cases                               2981\n",
              "new_cases                                 2986\n",
              "new_cases_smoothed                        3951\n",
              "total_deaths                             12804\n",
              "new_deaths                               12769\n",
              "new_deaths_smoothed                       3951\n",
              "total_cases_per_million                   2981\n",
              "new_cases_per_million                     2986\n",
              "new_cases_smoothed_per_million            3951\n",
              "total_deaths_per_million                 12804\n",
              "new_deaths_per_million                   12769\n",
              "new_deaths_smoothed_per_million           3951\n",
              "reproduction_rate                        14910\n",
              "icu_patients                             80297\n",
              "icu_patients_per_million                 80297\n",
              "hosp_patients                            78000\n",
              "hosp_patients_per_million                78000\n",
              "weekly_icu_admissions                    88942\n",
              "weekly_icu_admissions_per_million        88942\n",
              "weekly_hosp_admissions                   88304\n",
              "weekly_hosp_admissions_per_million       88304\n",
              "new_tests                                47559\n",
              "total_tests                              47869\n",
              "total_tests_per_thousand                 47869\n",
              "new_tests_per_thousand                   47559\n",
              "new_tests_smoothed                       40850\n",
              "new_tests_smoothed_per_thousand          40850\n",
              "positive_rate                            43671\n",
              "tests_per_case                           44270\n",
              "tests_units                              39263\n",
              "total_vaccinations                       77476\n",
              "people_vaccinated                        78256\n",
              "people_fully_vaccinated                  80851\n",
              "new_vaccinations                         79641\n",
              "new_vaccinations_smoothed                68031\n",
              "total_vaccinations_per_hundred           77476\n",
              "people_vaccinated_per_hundred            78256\n",
              "people_fully_vaccinated_per_hundred      80851\n",
              "new_vaccinations_smoothed_per_million    68031\n",
              "stringency_index                         10825\n",
              "population                                 134\n",
              "population_density                        3137\n",
              "median_age                                6243\n",
              "aged_65_older                             7191\n",
              "aged_70_older                             6709\n",
              "gdp_per_capita                            5981\n",
              "extreme_poverty                          33277\n",
              "cardiovasc_death_rate                     5844\n",
              "diabetes_prevalence                       3843\n",
              "female_smokers                           24201\n",
              "male_smokers                             25170\n",
              "handwashing_facilities                   47876\n",
              "hospital_beds_per_thousand               13317\n",
              "life_expectancy                           1291\n",
              "human_development_index                   5672\n",
              "dtype: int64"
            ]
          },
          "metadata": {
            "tags": []
          },
          "execution_count": 12
        }
      ]
    },
    {
      "cell_type": "code",
      "metadata": {
        "colab": {
          "base_uri": "https://localhost:8080/"
        },
        "id": "MPLy7n9UyuGC",
        "outputId": "ced17bbf-7e83-433e-957f-88e133e9bb8e"
      },
      "source": [
        "df.columns"
      ],
      "execution_count": null,
      "outputs": [
        {
          "output_type": "execute_result",
          "data": {
            "text/plain": [
              "Index(['iso_code', 'continent', 'location', 'date', 'total_cases', 'new_cases',\n",
              "       'new_cases_smoothed', 'total_deaths', 'new_deaths',\n",
              "       'new_deaths_smoothed', 'total_cases_per_million',\n",
              "       'new_cases_per_million', 'new_cases_smoothed_per_million',\n",
              "       'total_deaths_per_million', 'new_deaths_per_million',\n",
              "       'new_deaths_smoothed_per_million', 'reproduction_rate', 'icu_patients',\n",
              "       'icu_patients_per_million', 'hosp_patients',\n",
              "       'hosp_patients_per_million', 'weekly_icu_admissions',\n",
              "       'weekly_icu_admissions_per_million', 'weekly_hosp_admissions',\n",
              "       'weekly_hosp_admissions_per_million', 'new_tests', 'total_tests',\n",
              "       'total_tests_per_thousand', 'new_tests_per_thousand',\n",
              "       'new_tests_smoothed', 'new_tests_smoothed_per_thousand',\n",
              "       'positive_rate', 'tests_per_case', 'tests_units', 'total_vaccinations',\n",
              "       'people_vaccinated', 'people_fully_vaccinated', 'new_vaccinations',\n",
              "       'new_vaccinations_smoothed', 'total_vaccinations_per_hundred',\n",
              "       'people_vaccinated_per_hundred', 'people_fully_vaccinated_per_hundred',\n",
              "       'new_vaccinations_smoothed_per_million', 'stringency_index',\n",
              "       'population', 'population_density', 'median_age', 'aged_65_older',\n",
              "       'aged_70_older', 'gdp_per_capita', 'extreme_poverty',\n",
              "       'cardiovasc_death_rate', 'diabetes_prevalence', 'female_smokers',\n",
              "       'male_smokers', 'handwashing_facilities', 'hospital_beds_per_thousand',\n",
              "       'life_expectancy', 'human_development_index'],\n",
              "      dtype='object')"
            ]
          },
          "metadata": {
            "tags": []
          },
          "execution_count": 13
        }
      ]
    },
    {
      "cell_type": "code",
      "metadata": {
        "id": "Qwx9LbWv0vdf"
      },
      "source": [
        "df=df.drop(['new_deaths_smoothed','continent','reproduction_rate','weekly_icu_admissions_per_million', 'weekly_hosp_admissions','icu_patients','hosp_patients','hosp_patients_per_million','weekly_icu_admissions','weekly_icu_admissions_per_million','weekly_hosp_admissions','weekly_hosp_admissions_per_million','tests_units','people_vaccinated','new_vaccinations','people_vaccinated','new_vaccinations_smoothed','total_vaccinations_per_hundred','people_vaccinated_per_hundred','new_vaccinations_smoothed_per_million','stringency_index','population','population_density','median_age','aged_70_older','handwashing_facilities','hospital_beds_per_thousand'],axis=1)"
      ],
      "execution_count": null,
      "outputs": []
    },
    {
      "cell_type": "code",
      "metadata": {
        "colab": {
          "base_uri": "https://localhost:8080/"
        },
        "id": "hcJiNyJA8x1q",
        "outputId": "ed38afdf-a851-4710-a896-b4ef1d7199f3"
      },
      "source": [
        "df.shape"
      ],
      "execution_count": null,
      "outputs": [
        {
          "output_type": "execute_result",
          "data": {
            "text/plain": [
              "(89803, 35)"
            ]
          },
          "metadata": {
            "tags": []
          },
          "execution_count": 15
        }
      ]
    },
    {
      "cell_type": "code",
      "metadata": {
        "colab": {
          "base_uri": "https://localhost:8080/"
        },
        "id": "KsRNozCWpCwb",
        "outputId": "b9a9758f-88b5-4998-e44c-ece1631e6873"
      },
      "source": [
        "df.columns"
      ],
      "execution_count": null,
      "outputs": [
        {
          "output_type": "execute_result",
          "data": {
            "text/plain": [
              "Index(['iso_code', 'location', 'date', 'total_cases', 'new_cases',\n",
              "       'new_cases_smoothed', 'total_deaths', 'new_deaths',\n",
              "       'total_cases_per_million', 'new_cases_per_million',\n",
              "       'new_cases_smoothed_per_million', 'total_deaths_per_million',\n",
              "       'new_deaths_per_million', 'new_deaths_smoothed_per_million',\n",
              "       'icu_patients_per_million', 'new_tests', 'total_tests',\n",
              "       'total_tests_per_thousand', 'new_tests_per_thousand',\n",
              "       'new_tests_smoothed', 'new_tests_smoothed_per_thousand',\n",
              "       'positive_rate', 'tests_per_case', 'total_vaccinations',\n",
              "       'people_fully_vaccinated', 'people_fully_vaccinated_per_hundred',\n",
              "       'aged_65_older', 'gdp_per_capita', 'extreme_poverty',\n",
              "       'cardiovasc_death_rate', 'diabetes_prevalence', 'female_smokers',\n",
              "       'male_smokers', 'life_expectancy', 'human_development_index'],\n",
              "      dtype='object')"
            ]
          },
          "metadata": {
            "tags": []
          },
          "execution_count": 16
        }
      ]
    },
    {
      "cell_type": "code",
      "metadata": {
        "colab": {
          "base_uri": "https://localhost:8080/"
        },
        "id": "YNMITlfJw9p9",
        "outputId": "78aa6580-882a-4e04-a7f4-cf2895dac84a"
      },
      "source": [
        "a=df.location.unique()\n",
        "a\n",
        "#number of unique locations"
      ],
      "execution_count": null,
      "outputs": [
        {
          "output_type": "execute_result",
          "data": {
            "text/plain": [
              "array(['Afghanistan', 'Albania', 'Algeria', 'Andorra', 'Angola',\n",
              "       'Anguilla', 'Antigua and Barbuda', 'Argentina', 'Armenia', 'Aruba',\n",
              "       'Australia', 'Austria', 'Azerbaijan', 'Bahamas', 'Bahrain',\n",
              "       'Bangladesh', 'Barbados', 'Belarus', 'Belgium', 'Belize', 'Benin',\n",
              "       'Bermuda', 'Bhutan', 'Bolivia', 'Bonaire Sint Eustatius and Saba',\n",
              "       'Bosnia and Herzegovina', 'Botswana', 'Brazil',\n",
              "       'British Virgin Islands', 'Brunei', 'Bulgaria', 'Burkina Faso',\n",
              "       'Burundi', 'Cambodia', 'Cameroon', 'Canada', 'Cape Verde',\n",
              "       'Cayman Islands', 'Central African Republic', 'Chad', 'Chile',\n",
              "       'China', 'Colombia', 'Comoros', 'Congo', 'Cook Islands',\n",
              "       'Costa Rica', \"Cote d'Ivoire\", 'Croatia', 'Cuba', 'Curacao',\n",
              "       'Cyprus', 'Czechia', 'Democratic Republic of Congo', 'Denmark',\n",
              "       'Djibouti', 'Dominica', 'Dominican Republic', 'Ecuador', 'Egypt',\n",
              "       'El Salvador', 'Equatorial Guinea', 'Eritrea', 'Estonia',\n",
              "       'Eswatini', 'Ethiopia', 'Faeroe Islands', 'Falkland Islands',\n",
              "       'Fiji', 'Finland', 'France', 'French Polynesia', 'Gabon', 'Gambia',\n",
              "       'Georgia', 'Germany', 'Ghana', 'Gibraltar', 'Greece', 'Greenland',\n",
              "       'Grenada', 'Guatemala', 'Guernsey', 'Guinea', 'Guinea-Bissau',\n",
              "       'Guyana', 'Haiti', 'Honduras', 'Hong Kong', 'Hungary', 'Iceland',\n",
              "       'India', 'Indonesia', 'Iran', 'Iraq', 'Ireland', 'Isle of Man',\n",
              "       'Israel', 'Italy', 'Jamaica', 'Japan', 'Jersey', 'Jordan',\n",
              "       'Kazakhstan', 'Kenya', 'Kiribati', 'Kosovo', 'Kuwait',\n",
              "       'Kyrgyzstan', 'Laos', 'Latvia', 'Lebanon', 'Lesotho', 'Liberia',\n",
              "       'Libya', 'Liechtenstein', 'Lithuania', 'Luxembourg', 'Macao',\n",
              "       'Madagascar', 'Malawi', 'Malaysia', 'Maldives', 'Mali', 'Malta',\n",
              "       'Marshall Islands', 'Mauritania', 'Mauritius', 'Mexico',\n",
              "       'Micronesia (country)', 'Moldova', 'Monaco', 'Mongolia',\n",
              "       'Montenegro', 'Montserrat', 'Morocco', 'Mozambique', 'Myanmar',\n",
              "       'Namibia', 'Nauru', 'Nepal', 'Netherlands', 'New Caledonia',\n",
              "       'New Zealand', 'Nicaragua', 'Niger', 'Nigeria', 'North Macedonia',\n",
              "       'Northern Cyprus', 'Norway', 'Oceania', 'Oman', 'Pakistan',\n",
              "       'Palestine', 'Panama', 'Papua New Guinea', 'Paraguay', 'Peru',\n",
              "       'Philippines', 'Poland', 'Portugal', 'Qatar', 'Romania', 'Russia',\n",
              "       'Rwanda', 'Saint Helena', 'Saint Kitts and Nevis', 'Saint Lucia',\n",
              "       'Saint Vincent and the Grenadines', 'Samoa', 'San Marino',\n",
              "       'Sao Tome and Principe', 'Saudi Arabia', 'Senegal', 'Serbia',\n",
              "       'Seychelles', 'Sierra Leone', 'Singapore',\n",
              "       'Sint Maarten (Dutch part)', 'Slovakia', 'Slovenia',\n",
              "       'Solomon Islands', 'Somalia', 'South Africa', 'South Korea',\n",
              "       'South Sudan', 'Spain', 'Sri Lanka', 'Sudan', 'Suriname', 'Sweden',\n",
              "       'Switzerland', 'Syria', 'Taiwan', 'Tajikistan', 'Tanzania',\n",
              "       'Thailand', 'Timor', 'Togo', 'Tonga', 'Trinidad and Tobago',\n",
              "       'Tunisia', 'Turkey', 'Turkmenistan', 'Turks and Caicos Islands',\n",
              "       'Tuvalu', 'Uganda', 'Ukraine', 'United Arab Emirates',\n",
              "       'United Kingdom', 'United States', 'Uruguay', 'Uzbekistan',\n",
              "       'Vanuatu', 'Vatican', 'Venezuela', 'Vietnam', 'Wallis and Futuna',\n",
              "       'Yemen', 'Zambia', 'Zimbabwe'], dtype=object)"
            ]
          },
          "metadata": {
            "tags": []
          },
          "execution_count": 29
        }
      ]
    },
    {
      "cell_type": "code",
      "metadata": {
        "id": "xWGplahKxngK"
      },
      "source": [
        "# to remove the Nan values from the table\n",
        "df=df.fillna(0)"
      ],
      "execution_count": null,
      "outputs": []
    },
    {
      "cell_type": "code",
      "metadata": {
        "colab": {
          "base_uri": "https://localhost:8080/"
        },
        "id": "8aMnR_eAhFyH",
        "outputId": "482537ad-45e5-4892-9602-cb3c0bfe0dcc"
      },
      "source": [
        "df.isnull().sum()"
      ],
      "execution_count": null,
      "outputs": [
        {
          "output_type": "execute_result",
          "data": {
            "text/plain": [
              "iso_code                               0\n",
              "location                               0\n",
              "date                                   0\n",
              "total_cases                            0\n",
              "new_cases                              0\n",
              "new_cases_smoothed                     0\n",
              "total_deaths                           0\n",
              "new_deaths                             0\n",
              "total_cases_per_million                0\n",
              "new_cases_per_million                  0\n",
              "new_cases_smoothed_per_million         0\n",
              "total_deaths_per_million               0\n",
              "new_deaths_per_million                 0\n",
              "new_deaths_smoothed_per_million        0\n",
              "icu_patients_per_million               0\n",
              "new_tests                              0\n",
              "total_tests                            0\n",
              "total_tests_per_thousand               0\n",
              "new_tests_per_thousand                 0\n",
              "new_tests_smoothed                     0\n",
              "new_tests_smoothed_per_thousand        0\n",
              "positive_rate                          0\n",
              "tests_per_case                         0\n",
              "total_vaccinations                     0\n",
              "people_fully_vaccinated                0\n",
              "people_fully_vaccinated_per_hundred    0\n",
              "aged_65_older                          0\n",
              "gdp_per_capita                         0\n",
              "extreme_poverty                        0\n",
              "cardiovasc_death_rate                  0\n",
              "diabetes_prevalence                    0\n",
              "female_smokers                         0\n",
              "male_smokers                           0\n",
              "life_expectancy                        0\n",
              "human_development_index                0\n",
              "dtype: int64"
            ]
          },
          "metadata": {
            "tags": []
          },
          "execution_count": 31
        }
      ]
    },
    {
      "cell_type": "code",
      "metadata": {
        "colab": {
          "base_uri": "https://localhost:8080/",
          "height": 556
        },
        "id": "pID3Jwr79vHR",
        "outputId": "ab0d7290-a795-4037-ee52-51c81bfda3d5"
      },
      "source": [
        "df.head(10)"
      ],
      "execution_count": null,
      "outputs": [
        {
          "output_type": "execute_result",
          "data": {
            "text/html": [
              "<div>\n",
              "<style scoped>\n",
              "    .dataframe tbody tr th:only-of-type {\n",
              "        vertical-align: middle;\n",
              "    }\n",
              "\n",
              "    .dataframe tbody tr th {\n",
              "        vertical-align: top;\n",
              "    }\n",
              "\n",
              "    .dataframe thead th {\n",
              "        text-align: right;\n",
              "    }\n",
              "</style>\n",
              "<table border=\"1\" class=\"dataframe\">\n",
              "  <thead>\n",
              "    <tr style=\"text-align: right;\">\n",
              "      <th></th>\n",
              "      <th>iso_code</th>\n",
              "      <th>location</th>\n",
              "      <th>date</th>\n",
              "      <th>total_cases</th>\n",
              "      <th>new_cases</th>\n",
              "      <th>new_cases_smoothed</th>\n",
              "      <th>total_deaths</th>\n",
              "      <th>new_deaths</th>\n",
              "      <th>total_cases_per_million</th>\n",
              "      <th>new_cases_per_million</th>\n",
              "      <th>new_cases_smoothed_per_million</th>\n",
              "      <th>total_deaths_per_million</th>\n",
              "      <th>new_deaths_per_million</th>\n",
              "      <th>new_deaths_smoothed_per_million</th>\n",
              "      <th>icu_patients_per_million</th>\n",
              "      <th>new_tests</th>\n",
              "      <th>total_tests</th>\n",
              "      <th>total_tests_per_thousand</th>\n",
              "      <th>new_tests_per_thousand</th>\n",
              "      <th>new_tests_smoothed</th>\n",
              "      <th>new_tests_smoothed_per_thousand</th>\n",
              "      <th>positive_rate</th>\n",
              "      <th>tests_per_case</th>\n",
              "      <th>total_vaccinations</th>\n",
              "      <th>people_fully_vaccinated</th>\n",
              "      <th>people_fully_vaccinated_per_hundred</th>\n",
              "      <th>aged_65_older</th>\n",
              "      <th>gdp_per_capita</th>\n",
              "      <th>extreme_poverty</th>\n",
              "      <th>cardiovasc_death_rate</th>\n",
              "      <th>diabetes_prevalence</th>\n",
              "      <th>female_smokers</th>\n",
              "      <th>male_smokers</th>\n",
              "      <th>life_expectancy</th>\n",
              "      <th>human_development_index</th>\n",
              "    </tr>\n",
              "  </thead>\n",
              "  <tbody>\n",
              "    <tr>\n",
              "      <th>0</th>\n",
              "      <td>AFG</td>\n",
              "      <td>Afghanistan</td>\n",
              "      <td>2020-02-24</td>\n",
              "      <td>1.0</td>\n",
              "      <td>1.0</td>\n",
              "      <td>0</td>\n",
              "      <td>0.0</td>\n",
              "      <td>0.0</td>\n",
              "      <td>0.026</td>\n",
              "      <td>0.026</td>\n",
              "      <td>0.000</td>\n",
              "      <td>0.0</td>\n",
              "      <td>0.0</td>\n",
              "      <td>0.0</td>\n",
              "      <td>0.0</td>\n",
              "      <td>0.0</td>\n",
              "      <td>0.0</td>\n",
              "      <td>0.0</td>\n",
              "      <td>0.0</td>\n",
              "      <td>0.0</td>\n",
              "      <td>0.0</td>\n",
              "      <td>0.0</td>\n",
              "      <td>0.0</td>\n",
              "      <td>0.0</td>\n",
              "      <td>0</td>\n",
              "      <td>0.0</td>\n",
              "      <td>2.581</td>\n",
              "      <td>1803.987</td>\n",
              "      <td>0.0</td>\n",
              "      <td>597.029</td>\n",
              "      <td>9.59</td>\n",
              "      <td>0.0</td>\n",
              "      <td>0.0</td>\n",
              "      <td>64.83</td>\n",
              "      <td>0.511</td>\n",
              "    </tr>\n",
              "    <tr>\n",
              "      <th>1</th>\n",
              "      <td>AFG</td>\n",
              "      <td>Afghanistan</td>\n",
              "      <td>2020-02-25</td>\n",
              "      <td>1.0</td>\n",
              "      <td>0.0</td>\n",
              "      <td>0</td>\n",
              "      <td>0.0</td>\n",
              "      <td>0.0</td>\n",
              "      <td>0.026</td>\n",
              "      <td>0.000</td>\n",
              "      <td>0.000</td>\n",
              "      <td>0.0</td>\n",
              "      <td>0.0</td>\n",
              "      <td>0.0</td>\n",
              "      <td>0.0</td>\n",
              "      <td>0.0</td>\n",
              "      <td>0.0</td>\n",
              "      <td>0.0</td>\n",
              "      <td>0.0</td>\n",
              "      <td>0.0</td>\n",
              "      <td>0.0</td>\n",
              "      <td>0.0</td>\n",
              "      <td>0.0</td>\n",
              "      <td>0.0</td>\n",
              "      <td>0</td>\n",
              "      <td>0.0</td>\n",
              "      <td>2.581</td>\n",
              "      <td>1803.987</td>\n",
              "      <td>0.0</td>\n",
              "      <td>597.029</td>\n",
              "      <td>9.59</td>\n",
              "      <td>0.0</td>\n",
              "      <td>0.0</td>\n",
              "      <td>64.83</td>\n",
              "      <td>0.511</td>\n",
              "    </tr>\n",
              "    <tr>\n",
              "      <th>2</th>\n",
              "      <td>AFG</td>\n",
              "      <td>Afghanistan</td>\n",
              "      <td>2020-02-26</td>\n",
              "      <td>1.0</td>\n",
              "      <td>0.0</td>\n",
              "      <td>0</td>\n",
              "      <td>0.0</td>\n",
              "      <td>0.0</td>\n",
              "      <td>0.026</td>\n",
              "      <td>0.000</td>\n",
              "      <td>0.000</td>\n",
              "      <td>0.0</td>\n",
              "      <td>0.0</td>\n",
              "      <td>0.0</td>\n",
              "      <td>0.0</td>\n",
              "      <td>0.0</td>\n",
              "      <td>0.0</td>\n",
              "      <td>0.0</td>\n",
              "      <td>0.0</td>\n",
              "      <td>0.0</td>\n",
              "      <td>0.0</td>\n",
              "      <td>0.0</td>\n",
              "      <td>0.0</td>\n",
              "      <td>0.0</td>\n",
              "      <td>0</td>\n",
              "      <td>0.0</td>\n",
              "      <td>2.581</td>\n",
              "      <td>1803.987</td>\n",
              "      <td>0.0</td>\n",
              "      <td>597.029</td>\n",
              "      <td>9.59</td>\n",
              "      <td>0.0</td>\n",
              "      <td>0.0</td>\n",
              "      <td>64.83</td>\n",
              "      <td>0.511</td>\n",
              "    </tr>\n",
              "    <tr>\n",
              "      <th>3</th>\n",
              "      <td>AFG</td>\n",
              "      <td>Afghanistan</td>\n",
              "      <td>2020-02-27</td>\n",
              "      <td>1.0</td>\n",
              "      <td>0.0</td>\n",
              "      <td>0</td>\n",
              "      <td>0.0</td>\n",
              "      <td>0.0</td>\n",
              "      <td>0.026</td>\n",
              "      <td>0.000</td>\n",
              "      <td>0.000</td>\n",
              "      <td>0.0</td>\n",
              "      <td>0.0</td>\n",
              "      <td>0.0</td>\n",
              "      <td>0.0</td>\n",
              "      <td>0.0</td>\n",
              "      <td>0.0</td>\n",
              "      <td>0.0</td>\n",
              "      <td>0.0</td>\n",
              "      <td>0.0</td>\n",
              "      <td>0.0</td>\n",
              "      <td>0.0</td>\n",
              "      <td>0.0</td>\n",
              "      <td>0.0</td>\n",
              "      <td>0</td>\n",
              "      <td>0.0</td>\n",
              "      <td>2.581</td>\n",
              "      <td>1803.987</td>\n",
              "      <td>0.0</td>\n",
              "      <td>597.029</td>\n",
              "      <td>9.59</td>\n",
              "      <td>0.0</td>\n",
              "      <td>0.0</td>\n",
              "      <td>64.83</td>\n",
              "      <td>0.511</td>\n",
              "    </tr>\n",
              "    <tr>\n",
              "      <th>4</th>\n",
              "      <td>AFG</td>\n",
              "      <td>Afghanistan</td>\n",
              "      <td>2020-02-28</td>\n",
              "      <td>1.0</td>\n",
              "      <td>0.0</td>\n",
              "      <td>0</td>\n",
              "      <td>0.0</td>\n",
              "      <td>0.0</td>\n",
              "      <td>0.026</td>\n",
              "      <td>0.000</td>\n",
              "      <td>0.000</td>\n",
              "      <td>0.0</td>\n",
              "      <td>0.0</td>\n",
              "      <td>0.0</td>\n",
              "      <td>0.0</td>\n",
              "      <td>0.0</td>\n",
              "      <td>0.0</td>\n",
              "      <td>0.0</td>\n",
              "      <td>0.0</td>\n",
              "      <td>0.0</td>\n",
              "      <td>0.0</td>\n",
              "      <td>0.0</td>\n",
              "      <td>0.0</td>\n",
              "      <td>0.0</td>\n",
              "      <td>0</td>\n",
              "      <td>0.0</td>\n",
              "      <td>2.581</td>\n",
              "      <td>1803.987</td>\n",
              "      <td>0.0</td>\n",
              "      <td>597.029</td>\n",
              "      <td>9.59</td>\n",
              "      <td>0.0</td>\n",
              "      <td>0.0</td>\n",
              "      <td>64.83</td>\n",
              "      <td>0.511</td>\n",
              "    </tr>\n",
              "    <tr>\n",
              "      <th>5</th>\n",
              "      <td>AFG</td>\n",
              "      <td>Afghanistan</td>\n",
              "      <td>2020-02-29</td>\n",
              "      <td>1.0</td>\n",
              "      <td>0.0</td>\n",
              "      <td>0</td>\n",
              "      <td>0.0</td>\n",
              "      <td>0.0</td>\n",
              "      <td>0.026</td>\n",
              "      <td>0.000</td>\n",
              "      <td>0.004</td>\n",
              "      <td>0.0</td>\n",
              "      <td>0.0</td>\n",
              "      <td>0.0</td>\n",
              "      <td>0.0</td>\n",
              "      <td>0.0</td>\n",
              "      <td>0.0</td>\n",
              "      <td>0.0</td>\n",
              "      <td>0.0</td>\n",
              "      <td>0.0</td>\n",
              "      <td>0.0</td>\n",
              "      <td>0.0</td>\n",
              "      <td>0.0</td>\n",
              "      <td>0.0</td>\n",
              "      <td>0</td>\n",
              "      <td>0.0</td>\n",
              "      <td>2.581</td>\n",
              "      <td>1803.987</td>\n",
              "      <td>0.0</td>\n",
              "      <td>597.029</td>\n",
              "      <td>9.59</td>\n",
              "      <td>0.0</td>\n",
              "      <td>0.0</td>\n",
              "      <td>64.83</td>\n",
              "      <td>0.511</td>\n",
              "    </tr>\n",
              "    <tr>\n",
              "      <th>6</th>\n",
              "      <td>AFG</td>\n",
              "      <td>Afghanistan</td>\n",
              "      <td>2020-03-01</td>\n",
              "      <td>1.0</td>\n",
              "      <td>0.0</td>\n",
              "      <td>0</td>\n",
              "      <td>0.0</td>\n",
              "      <td>0.0</td>\n",
              "      <td>0.026</td>\n",
              "      <td>0.000</td>\n",
              "      <td>0.004</td>\n",
              "      <td>0.0</td>\n",
              "      <td>0.0</td>\n",
              "      <td>0.0</td>\n",
              "      <td>0.0</td>\n",
              "      <td>0.0</td>\n",
              "      <td>0.0</td>\n",
              "      <td>0.0</td>\n",
              "      <td>0.0</td>\n",
              "      <td>0.0</td>\n",
              "      <td>0.0</td>\n",
              "      <td>0.0</td>\n",
              "      <td>0.0</td>\n",
              "      <td>0.0</td>\n",
              "      <td>0</td>\n",
              "      <td>0.0</td>\n",
              "      <td>2.581</td>\n",
              "      <td>1803.987</td>\n",
              "      <td>0.0</td>\n",
              "      <td>597.029</td>\n",
              "      <td>9.59</td>\n",
              "      <td>0.0</td>\n",
              "      <td>0.0</td>\n",
              "      <td>64.83</td>\n",
              "      <td>0.511</td>\n",
              "    </tr>\n",
              "    <tr>\n",
              "      <th>7</th>\n",
              "      <td>AFG</td>\n",
              "      <td>Afghanistan</td>\n",
              "      <td>2020-03-02</td>\n",
              "      <td>1.0</td>\n",
              "      <td>0.0</td>\n",
              "      <td>0</td>\n",
              "      <td>0.0</td>\n",
              "      <td>0.0</td>\n",
              "      <td>0.026</td>\n",
              "      <td>0.000</td>\n",
              "      <td>0.000</td>\n",
              "      <td>0.0</td>\n",
              "      <td>0.0</td>\n",
              "      <td>0.0</td>\n",
              "      <td>0.0</td>\n",
              "      <td>0.0</td>\n",
              "      <td>0.0</td>\n",
              "      <td>0.0</td>\n",
              "      <td>0.0</td>\n",
              "      <td>0.0</td>\n",
              "      <td>0.0</td>\n",
              "      <td>0.0</td>\n",
              "      <td>0.0</td>\n",
              "      <td>0.0</td>\n",
              "      <td>0</td>\n",
              "      <td>0.0</td>\n",
              "      <td>2.581</td>\n",
              "      <td>1803.987</td>\n",
              "      <td>0.0</td>\n",
              "      <td>597.029</td>\n",
              "      <td>9.59</td>\n",
              "      <td>0.0</td>\n",
              "      <td>0.0</td>\n",
              "      <td>64.83</td>\n",
              "      <td>0.511</td>\n",
              "    </tr>\n",
              "    <tr>\n",
              "      <th>8</th>\n",
              "      <td>AFG</td>\n",
              "      <td>Afghanistan</td>\n",
              "      <td>2020-03-03</td>\n",
              "      <td>2.0</td>\n",
              "      <td>1.0</td>\n",
              "      <td>0</td>\n",
              "      <td>0.0</td>\n",
              "      <td>0.0</td>\n",
              "      <td>0.051</td>\n",
              "      <td>0.026</td>\n",
              "      <td>0.004</td>\n",
              "      <td>0.0</td>\n",
              "      <td>0.0</td>\n",
              "      <td>0.0</td>\n",
              "      <td>0.0</td>\n",
              "      <td>0.0</td>\n",
              "      <td>0.0</td>\n",
              "      <td>0.0</td>\n",
              "      <td>0.0</td>\n",
              "      <td>0.0</td>\n",
              "      <td>0.0</td>\n",
              "      <td>0.0</td>\n",
              "      <td>0.0</td>\n",
              "      <td>0.0</td>\n",
              "      <td>0</td>\n",
              "      <td>0.0</td>\n",
              "      <td>2.581</td>\n",
              "      <td>1803.987</td>\n",
              "      <td>0.0</td>\n",
              "      <td>597.029</td>\n",
              "      <td>9.59</td>\n",
              "      <td>0.0</td>\n",
              "      <td>0.0</td>\n",
              "      <td>64.83</td>\n",
              "      <td>0.511</td>\n",
              "    </tr>\n",
              "    <tr>\n",
              "      <th>9</th>\n",
              "      <td>AFG</td>\n",
              "      <td>Afghanistan</td>\n",
              "      <td>2020-03-04</td>\n",
              "      <td>4.0</td>\n",
              "      <td>2.0</td>\n",
              "      <td>0</td>\n",
              "      <td>0.0</td>\n",
              "      <td>0.0</td>\n",
              "      <td>0.103</td>\n",
              "      <td>0.051</td>\n",
              "      <td>0.011</td>\n",
              "      <td>0.0</td>\n",
              "      <td>0.0</td>\n",
              "      <td>0.0</td>\n",
              "      <td>0.0</td>\n",
              "      <td>0.0</td>\n",
              "      <td>0.0</td>\n",
              "      <td>0.0</td>\n",
              "      <td>0.0</td>\n",
              "      <td>0.0</td>\n",
              "      <td>0.0</td>\n",
              "      <td>0.0</td>\n",
              "      <td>0.0</td>\n",
              "      <td>0.0</td>\n",
              "      <td>0</td>\n",
              "      <td>0.0</td>\n",
              "      <td>2.581</td>\n",
              "      <td>1803.987</td>\n",
              "      <td>0.0</td>\n",
              "      <td>597.029</td>\n",
              "      <td>9.59</td>\n",
              "      <td>0.0</td>\n",
              "      <td>0.0</td>\n",
              "      <td>64.83</td>\n",
              "      <td>0.511</td>\n",
              "    </tr>\n",
              "  </tbody>\n",
              "</table>\n",
              "</div>"
            ],
            "text/plain": [
              "  iso_code     location  ... life_expectancy  human_development_index\n",
              "0      AFG  Afghanistan  ...           64.83                    0.511\n",
              "1      AFG  Afghanistan  ...           64.83                    0.511\n",
              "2      AFG  Afghanistan  ...           64.83                    0.511\n",
              "3      AFG  Afghanistan  ...           64.83                    0.511\n",
              "4      AFG  Afghanistan  ...           64.83                    0.511\n",
              "5      AFG  Afghanistan  ...           64.83                    0.511\n",
              "6      AFG  Afghanistan  ...           64.83                    0.511\n",
              "7      AFG  Afghanistan  ...           64.83                    0.511\n",
              "8      AFG  Afghanistan  ...           64.83                    0.511\n",
              "9      AFG  Afghanistan  ...           64.83                    0.511\n",
              "\n",
              "[10 rows x 35 columns]"
            ]
          },
          "metadata": {
            "tags": []
          },
          "execution_count": 32
        }
      ]
    },
    {
      "cell_type": "code",
      "metadata": {
        "colab": {
          "base_uri": "https://localhost:8080/"
        },
        "id": "YUM-lUXY_9G3",
        "outputId": "17ae5227-9852-495f-81f3-0c019fb050c8"
      },
      "source": [
        "df.info()\n",
        "#To check the format for accessing date"
      ],
      "execution_count": null,
      "outputs": [
        {
          "output_type": "stream",
          "text": [
            "<class 'pandas.core.frame.DataFrame'>\n",
            "Int64Index: 89803 entries, 0 to 93739\n",
            "Data columns (total 35 columns):\n",
            " #   Column                               Non-Null Count  Dtype         \n",
            "---  ------                               --------------  -----         \n",
            " 0   iso_code                             89803 non-null  object        \n",
            " 1   location                             89803 non-null  object        \n",
            " 2   date                                 89803 non-null  datetime64[ns]\n",
            " 3   total_cases                          89803 non-null  float64       \n",
            " 4   new_cases                            89803 non-null  float64       \n",
            " 5   new_cases_smoothed                   89803 non-null  int64         \n",
            " 6   total_deaths                         89803 non-null  float64       \n",
            " 7   new_deaths                           89803 non-null  float64       \n",
            " 8   total_cases_per_million              89803 non-null  float64       \n",
            " 9   new_cases_per_million                89803 non-null  float64       \n",
            " 10  new_cases_smoothed_per_million       89803 non-null  float64       \n",
            " 11  total_deaths_per_million             89803 non-null  float64       \n",
            " 12  new_deaths_per_million               89803 non-null  float64       \n",
            " 13  new_deaths_smoothed_per_million      89803 non-null  float64       \n",
            " 14  icu_patients_per_million             89803 non-null  float64       \n",
            " 15  new_tests                            89803 non-null  float64       \n",
            " 16  total_tests                          89803 non-null  float64       \n",
            " 17  total_tests_per_thousand             89803 non-null  float64       \n",
            " 18  new_tests_per_thousand               89803 non-null  float64       \n",
            " 19  new_tests_smoothed                   89803 non-null  float64       \n",
            " 20  new_tests_smoothed_per_thousand      89803 non-null  float64       \n",
            " 21  positive_rate                        89803 non-null  float64       \n",
            " 22  tests_per_case                       89803 non-null  float64       \n",
            " 23  total_vaccinations                   89803 non-null  float64       \n",
            " 24  people_fully_vaccinated              89803 non-null  int64         \n",
            " 25  people_fully_vaccinated_per_hundred  89803 non-null  float64       \n",
            " 26  aged_65_older                        89803 non-null  float64       \n",
            " 27  gdp_per_capita                       89803 non-null  float64       \n",
            " 28  extreme_poverty                      89803 non-null  float64       \n",
            " 29  cardiovasc_death_rate                89803 non-null  float64       \n",
            " 30  diabetes_prevalence                  89803 non-null  float64       \n",
            " 31  female_smokers                       89803 non-null  float64       \n",
            " 32  male_smokers                         89803 non-null  float64       \n",
            " 33  life_expectancy                      89803 non-null  float64       \n",
            " 34  human_development_index              89803 non-null  float64       \n",
            "dtypes: datetime64[ns](1), float64(30), int64(2), object(2)\n",
            "memory usage: 24.7+ MB\n"
          ],
          "name": "stdout"
        }
      ]
    },
    {
      "cell_type": "code",
      "metadata": {
        "id": "4IzWzqdhgubS"
      },
      "source": [
        "df['date']=pd.to_datetime(df['date'])\n"
      ],
      "execution_count": null,
      "outputs": []
    },
    {
      "cell_type": "code",
      "metadata": {
        "colab": {
          "base_uri": "https://localhost:8080/",
          "height": 313
        },
        "id": "UHktRTINlzkg",
        "outputId": "6bca0e80-4f3d-4be7-b41d-d40ec7803636"
      },
      "source": [
        "df_ind=df[df['location']=='India']\n",
        "df_ind.tail()"
      ],
      "execution_count": null,
      "outputs": [
        {
          "output_type": "execute_result",
          "data": {
            "text/html": [
              "<div>\n",
              "<style scoped>\n",
              "    .dataframe tbody tr th:only-of-type {\n",
              "        vertical-align: middle;\n",
              "    }\n",
              "\n",
              "    .dataframe tbody tr th {\n",
              "        vertical-align: top;\n",
              "    }\n",
              "\n",
              "    .dataframe thead th {\n",
              "        text-align: right;\n",
              "    }\n",
              "</style>\n",
              "<table border=\"1\" class=\"dataframe\">\n",
              "  <thead>\n",
              "    <tr style=\"text-align: right;\">\n",
              "      <th></th>\n",
              "      <th>iso_code</th>\n",
              "      <th>location</th>\n",
              "      <th>date</th>\n",
              "      <th>total_cases</th>\n",
              "      <th>new_cases</th>\n",
              "      <th>new_cases_smoothed</th>\n",
              "      <th>total_deaths</th>\n",
              "      <th>new_deaths</th>\n",
              "      <th>total_cases_per_million</th>\n",
              "      <th>new_cases_per_million</th>\n",
              "      <th>new_cases_smoothed_per_million</th>\n",
              "      <th>total_deaths_per_million</th>\n",
              "      <th>new_deaths_per_million</th>\n",
              "      <th>new_deaths_smoothed_per_million</th>\n",
              "      <th>icu_patients_per_million</th>\n",
              "      <th>new_tests</th>\n",
              "      <th>total_tests</th>\n",
              "      <th>total_tests_per_thousand</th>\n",
              "      <th>new_tests_per_thousand</th>\n",
              "      <th>new_tests_smoothed</th>\n",
              "      <th>new_tests_smoothed_per_thousand</th>\n",
              "      <th>positive_rate</th>\n",
              "      <th>tests_per_case</th>\n",
              "      <th>total_vaccinations</th>\n",
              "      <th>people_fully_vaccinated</th>\n",
              "      <th>people_fully_vaccinated_per_hundred</th>\n",
              "      <th>aged_65_older</th>\n",
              "      <th>gdp_per_capita</th>\n",
              "      <th>extreme_poverty</th>\n",
              "      <th>cardiovasc_death_rate</th>\n",
              "      <th>diabetes_prevalence</th>\n",
              "      <th>female_smokers</th>\n",
              "      <th>male_smokers</th>\n",
              "      <th>life_expectancy</th>\n",
              "      <th>human_development_index</th>\n",
              "    </tr>\n",
              "  </thead>\n",
              "  <tbody>\n",
              "    <tr>\n",
              "      <th>39240</th>\n",
              "      <td>IND</td>\n",
              "      <td>India</td>\n",
              "      <td>2021-06-01</td>\n",
              "      <td>28307832.0</td>\n",
              "      <td>132788.0</td>\n",
              "      <td>164291</td>\n",
              "      <td>335102.0</td>\n",
              "      <td>3207.0</td>\n",
              "      <td>20512.857</td>\n",
              "      <td>96.223</td>\n",
              "      <td>119.051</td>\n",
              "      <td>242.827</td>\n",
              "      <td>2.324</td>\n",
              "      <td>2.455</td>\n",
              "      <td>0.0</td>\n",
              "      <td>1925374.0</td>\n",
              "      <td>346792257.0</td>\n",
              "      <td>251.298</td>\n",
              "      <td>1.395</td>\n",
              "      <td>2028297.0</td>\n",
              "      <td>1.470</td>\n",
              "      <td>0.081</td>\n",
              "      <td>12.3</td>\n",
              "      <td>213135738.0</td>\n",
              "      <td>43550558</td>\n",
              "      <td>3.16</td>\n",
              "      <td>5.989</td>\n",
              "      <td>6426.674</td>\n",
              "      <td>21.2</td>\n",
              "      <td>282.28</td>\n",
              "      <td>10.39</td>\n",
              "      <td>1.9</td>\n",
              "      <td>20.6</td>\n",
              "      <td>69.66</td>\n",
              "      <td>0.645</td>\n",
              "    </tr>\n",
              "    <tr>\n",
              "      <th>39241</th>\n",
              "      <td>IND</td>\n",
              "      <td>India</td>\n",
              "      <td>2021-06-02</td>\n",
              "      <td>28441986.0</td>\n",
              "      <td>134154.0</td>\n",
              "      <td>153270</td>\n",
              "      <td>337989.0</td>\n",
              "      <td>2887.0</td>\n",
              "      <td>20610.069</td>\n",
              "      <td>97.213</td>\n",
              "      <td>111.065</td>\n",
              "      <td>244.919</td>\n",
              "      <td>2.092</td>\n",
              "      <td>2.355</td>\n",
              "      <td>0.0</td>\n",
              "      <td>3265073.0</td>\n",
              "      <td>350057330.0</td>\n",
              "      <td>253.664</td>\n",
              "      <td>2.366</td>\n",
              "      <td>2177976.0</td>\n",
              "      <td>1.578</td>\n",
              "      <td>0.070</td>\n",
              "      <td>14.2</td>\n",
              "      <td>215678166.0</td>\n",
              "      <td>43811342</td>\n",
              "      <td>3.17</td>\n",
              "      <td>5.989</td>\n",
              "      <td>6426.674</td>\n",
              "      <td>21.2</td>\n",
              "      <td>282.28</td>\n",
              "      <td>10.39</td>\n",
              "      <td>1.9</td>\n",
              "      <td>20.6</td>\n",
              "      <td>69.66</td>\n",
              "      <td>0.645</td>\n",
              "    </tr>\n",
              "    <tr>\n",
              "      <th>39242</th>\n",
              "      <td>IND</td>\n",
              "      <td>India</td>\n",
              "      <td>2021-06-03</td>\n",
              "      <td>28574350.0</td>\n",
              "      <td>132364.0</td>\n",
              "      <td>145556</td>\n",
              "      <td>340702.0</td>\n",
              "      <td>2713.0</td>\n",
              "      <td>20705.985</td>\n",
              "      <td>95.916</td>\n",
              "      <td>105.475</td>\n",
              "      <td>246.885</td>\n",
              "      <td>1.966</td>\n",
              "      <td>2.257</td>\n",
              "      <td>0.0</td>\n",
              "      <td>3725318.0</td>\n",
              "      <td>353782648.0</td>\n",
              "      <td>256.363</td>\n",
              "      <td>2.699</td>\n",
              "      <td>2401899.0</td>\n",
              "      <td>1.741</td>\n",
              "      <td>0.061</td>\n",
              "      <td>16.5</td>\n",
              "      <td>218344384.0</td>\n",
              "      <td>44047467</td>\n",
              "      <td>3.19</td>\n",
              "      <td>5.989</td>\n",
              "      <td>6426.674</td>\n",
              "      <td>21.2</td>\n",
              "      <td>282.28</td>\n",
              "      <td>10.39</td>\n",
              "      <td>1.9</td>\n",
              "      <td>20.6</td>\n",
              "      <td>69.66</td>\n",
              "      <td>0.645</td>\n",
              "    </tr>\n",
              "    <tr>\n",
              "      <th>39243</th>\n",
              "      <td>IND</td>\n",
              "      <td>India</td>\n",
              "      <td>2021-06-04</td>\n",
              "      <td>28694879.0</td>\n",
              "      <td>120529.0</td>\n",
              "      <td>137947</td>\n",
              "      <td>344082.0</td>\n",
              "      <td>3380.0</td>\n",
              "      <td>20793.325</td>\n",
              "      <td>87.340</td>\n",
              "      <td>99.962</td>\n",
              "      <td>249.334</td>\n",
              "      <td>2.449</td>\n",
              "      <td>2.233</td>\n",
              "      <td>0.0</td>\n",
              "      <td>3651198.0</td>\n",
              "      <td>357433846.0</td>\n",
              "      <td>259.009</td>\n",
              "      <td>2.646</td>\n",
              "      <td>2627712.0</td>\n",
              "      <td>1.904</td>\n",
              "      <td>0.000</td>\n",
              "      <td>0.0</td>\n",
              "      <td>223607768.0</td>\n",
              "      <td>44434820</td>\n",
              "      <td>3.22</td>\n",
              "      <td>5.989</td>\n",
              "      <td>6426.674</td>\n",
              "      <td>21.2</td>\n",
              "      <td>282.28</td>\n",
              "      <td>10.39</td>\n",
              "      <td>1.9</td>\n",
              "      <td>20.6</td>\n",
              "      <td>69.66</td>\n",
              "      <td>0.645</td>\n",
              "    </tr>\n",
              "    <tr>\n",
              "      <th>39244</th>\n",
              "      <td>IND</td>\n",
              "      <td>India</td>\n",
              "      <td>2021-06-05</td>\n",
              "      <td>28809339.0</td>\n",
              "      <td>114460.0</td>\n",
              "      <td>130648</td>\n",
              "      <td>346759.0</td>\n",
              "      <td>2677.0</td>\n",
              "      <td>20876.266</td>\n",
              "      <td>82.942</td>\n",
              "      <td>94.672</td>\n",
              "      <td>251.274</td>\n",
              "      <td>1.940</td>\n",
              "      <td>2.152</td>\n",
              "      <td>0.0</td>\n",
              "      <td>0.0</td>\n",
              "      <td>0.0</td>\n",
              "      <td>0.000</td>\n",
              "      <td>0.000</td>\n",
              "      <td>0.0</td>\n",
              "      <td>0.000</td>\n",
              "      <td>0.000</td>\n",
              "      <td>0.0</td>\n",
              "      <td>225571144.0</td>\n",
              "      <td>44599042</td>\n",
              "      <td>3.23</td>\n",
              "      <td>5.989</td>\n",
              "      <td>6426.674</td>\n",
              "      <td>21.2</td>\n",
              "      <td>282.28</td>\n",
              "      <td>10.39</td>\n",
              "      <td>1.9</td>\n",
              "      <td>20.6</td>\n",
              "      <td>69.66</td>\n",
              "      <td>0.645</td>\n",
              "    </tr>\n",
              "  </tbody>\n",
              "</table>\n",
              "</div>"
            ],
            "text/plain": [
              "      iso_code location  ... life_expectancy  human_development_index\n",
              "39240      IND    India  ...           69.66                    0.645\n",
              "39241      IND    India  ...           69.66                    0.645\n",
              "39242      IND    India  ...           69.66                    0.645\n",
              "39243      IND    India  ...           69.66                    0.645\n",
              "39244      IND    India  ...           69.66                    0.645\n",
              "\n",
              "[5 rows x 35 columns]"
            ]
          },
          "metadata": {
            "tags": []
          },
          "execution_count": 35
        }
      ]
    },
    {
      "cell_type": "code",
      "metadata": {
        "colab": {
          "base_uri": "https://localhost:8080/",
          "height": 278
        },
        "id": "egsLtsyWjodS",
        "outputId": "6c5ab599-a415-4215-b177-84f515d86748"
      },
      "source": [
        "import matplotlib.pyplot as plt\n",
        "plt.figure(figsize=(25,5))\n",
        "\n",
        "plt.plot(df_ind['date'].sort_values(),df_ind['new_deaths'],c='r')"
      ],
      "execution_count": null,
      "outputs": [
        {
          "output_type": "execute_result",
          "data": {
            "text/plain": [
              "[<matplotlib.lines.Line2D at 0x7f8a43d2fe50>]"
            ]
          },
          "metadata": {
            "tags": []
          },
          "execution_count": 36
        },
        {
          "output_type": "display_data",
          "data": {
            "image/png": "[encoded data removed]",
            "text/plain": [
              "<Figure size 1800x360 with 1 Axes>"
            ]
          },
          "metadata": {
            "tags": [],
            "needs_background": "light"
          }
        }
      ]
    },
    {
      "cell_type": "code",
      "metadata": {
        "colab": {
          "base_uri": "https://localhost:8080/",
          "height": 278
        },
        "id": "UKvEQ_7fw2dm",
        "outputId": "61d8f9bb-d56e-4445-bde9-b3e542c19bbf"
      },
      "source": [
        "plt.figure(figsize=(25,5))\n",
        "\n",
        "plt.plot(df_ind['date'].sort_values(),df_ind['new_deaths'].rolling(1).mean())"
      ],
      "execution_count": null,
      "outputs": [
        {
          "output_type": "execute_result",
          "data": {
            "text/plain": [
              "[<matplotlib.lines.Line2D at 0x7f8a43969750>]"
            ]
          },
          "metadata": {
            "tags": []
          },
          "execution_count": 37
        },
        {
          "output_type": "display_data",
          "data": {
            "image/png": "[encoded data removed]",
            "text/plain": [
              "<Figure size 1800x360 with 1 Axes>"
            ]
          },
          "metadata": {
            "tags": [],
            "needs_background": "light"
          }
        }
      ]
    },
    {
      "cell_type": "code",
      "metadata": {
        "colab": {
          "base_uri": "https://localhost:8080/",
          "height": 617
        },
        "id": "MprLnjMLkksd",
        "outputId": "b0ea2ff6-0f57-43e9-e508-20af097807f3"
      },
      "source": [
        "\n",
        "df_ind=df_ind.rename(columns={'new_deaths':'y','date':'ds'})\n",
        "\n",
        "df_ind"
      ],
      "execution_count": null,
      "outputs": [
        {
          "output_type": "execute_result",
          "data": {
            "text/html": [
              "<div>\n",
              "<style scoped>\n",
              "    .dataframe tbody tr th:only-of-type {\n",
              "        vertical-align: middle;\n",
              "    }\n",
              "\n",
              "    .dataframe tbody tr th {\n",
              "        vertical-align: top;\n",
              "    }\n",
              "\n",
              "    .dataframe thead th {\n",
              "        text-align: right;\n",
              "    }\n",
              "</style>\n",
              "<table border=\"1\" class=\"dataframe\">\n",
              "  <thead>\n",
              "    <tr style=\"text-align: right;\">\n",
              "      <th></th>\n",
              "      <th>iso_code</th>\n",
              "      <th>location</th>\n",
              "      <th>ds</th>\n",
              "      <th>total_cases</th>\n",
              "      <th>new_cases</th>\n",
              "      <th>new_cases_smoothed</th>\n",
              "      <th>total_deaths</th>\n",
              "      <th>y</th>\n",
              "      <th>total_cases_per_million</th>\n",
              "      <th>new_cases_per_million</th>\n",
              "      <th>new_cases_smoothed_per_million</th>\n",
              "      <th>total_deaths_per_million</th>\n",
              "      <th>new_deaths_per_million</th>\n",
              "      <th>new_deaths_smoothed_per_million</th>\n",
              "      <th>icu_patients_per_million</th>\n",
              "      <th>new_tests</th>\n",
              "      <th>total_tests</th>\n",
              "      <th>total_tests_per_thousand</th>\n",
              "      <th>new_tests_per_thousand</th>\n",
              "      <th>new_tests_smoothed</th>\n",
              "      <th>new_tests_smoothed_per_thousand</th>\n",
              "      <th>positive_rate</th>\n",
              "      <th>tests_per_case</th>\n",
              "      <th>total_vaccinations</th>\n",
              "      <th>people_fully_vaccinated</th>\n",
              "      <th>people_fully_vaccinated_per_hundred</th>\n",
              "      <th>aged_65_older</th>\n",
              "      <th>gdp_per_capita</th>\n",
              "      <th>extreme_poverty</th>\n",
              "      <th>cardiovasc_death_rate</th>\n",
              "      <th>diabetes_prevalence</th>\n",
              "      <th>female_smokers</th>\n",
              "      <th>male_smokers</th>\n",
              "      <th>life_expectancy</th>\n",
              "      <th>human_development_index</th>\n",
              "    </tr>\n",
              "  </thead>\n",
              "  <tbody>\n",
              "    <tr>\n",
              "      <th>38752</th>\n",
              "      <td>IND</td>\n",
              "      <td>India</td>\n",
              "      <td>2020-01-30</td>\n",
              "      <td>1.0</td>\n",
              "      <td>1.0</td>\n",
              "      <td>0</td>\n",
              "      <td>0.0</td>\n",
              "      <td>0.0</td>\n",
              "      <td>0.001</td>\n",
              "      <td>0.001</td>\n",
              "      <td>0.000</td>\n",
              "      <td>0.000</td>\n",
              "      <td>0.000</td>\n",
              "      <td>0.000</td>\n",
              "      <td>0.0</td>\n",
              "      <td>0.0</td>\n",
              "      <td>0.0</td>\n",
              "      <td>0.000</td>\n",
              "      <td>0.000</td>\n",
              "      <td>0.0</td>\n",
              "      <td>0.000</td>\n",
              "      <td>0.000</td>\n",
              "      <td>0.0</td>\n",
              "      <td>0.0</td>\n",
              "      <td>0</td>\n",
              "      <td>0.00</td>\n",
              "      <td>5.989</td>\n",
              "      <td>6426.674</td>\n",
              "      <td>21.2</td>\n",
              "      <td>282.28</td>\n",
              "      <td>10.39</td>\n",
              "      <td>1.9</td>\n",
              "      <td>20.6</td>\n",
              "      <td>69.66</td>\n",
              "      <td>0.645</td>\n",
              "    </tr>\n",
              "    <tr>\n",
              "      <th>38753</th>\n",
              "      <td>IND</td>\n",
              "      <td>India</td>\n",
              "      <td>2020-01-31</td>\n",
              "      <td>1.0</td>\n",
              "      <td>0.0</td>\n",
              "      <td>0</td>\n",
              "      <td>0.0</td>\n",
              "      <td>0.0</td>\n",
              "      <td>0.001</td>\n",
              "      <td>0.000</td>\n",
              "      <td>0.000</td>\n",
              "      <td>0.000</td>\n",
              "      <td>0.000</td>\n",
              "      <td>0.000</td>\n",
              "      <td>0.0</td>\n",
              "      <td>0.0</td>\n",
              "      <td>0.0</td>\n",
              "      <td>0.000</td>\n",
              "      <td>0.000</td>\n",
              "      <td>0.0</td>\n",
              "      <td>0.000</td>\n",
              "      <td>0.000</td>\n",
              "      <td>0.0</td>\n",
              "      <td>0.0</td>\n",
              "      <td>0</td>\n",
              "      <td>0.00</td>\n",
              "      <td>5.989</td>\n",
              "      <td>6426.674</td>\n",
              "      <td>21.2</td>\n",
              "      <td>282.28</td>\n",
              "      <td>10.39</td>\n",
              "      <td>1.9</td>\n",
              "      <td>20.6</td>\n",
              "      <td>69.66</td>\n",
              "      <td>0.645</td>\n",
              "    </tr>\n",
              "    <tr>\n",
              "      <th>38754</th>\n",
              "      <td>IND</td>\n",
              "      <td>India</td>\n",
              "      <td>2020-02-01</td>\n",
              "      <td>1.0</td>\n",
              "      <td>0.0</td>\n",
              "      <td>0</td>\n",
              "      <td>0.0</td>\n",
              "      <td>0.0</td>\n",
              "      <td>0.001</td>\n",
              "      <td>0.000</td>\n",
              "      <td>0.000</td>\n",
              "      <td>0.000</td>\n",
              "      <td>0.000</td>\n",
              "      <td>0.000</td>\n",
              "      <td>0.0</td>\n",
              "      <td>0.0</td>\n",
              "      <td>0.0</td>\n",
              "      <td>0.000</td>\n",
              "      <td>0.000</td>\n",
              "      <td>0.0</td>\n",
              "      <td>0.000</td>\n",
              "      <td>0.000</td>\n",
              "      <td>0.0</td>\n",
              "      <td>0.0</td>\n",
              "      <td>0</td>\n",
              "      <td>0.00</td>\n",
              "      <td>5.989</td>\n",
              "      <td>6426.674</td>\n",
              "      <td>21.2</td>\n",
              "      <td>282.28</td>\n",
              "      <td>10.39</td>\n",
              "      <td>1.9</td>\n",
              "      <td>20.6</td>\n",
              "      <td>69.66</td>\n",
              "      <td>0.645</td>\n",
              "    </tr>\n",
              "    <tr>\n",
              "      <th>38755</th>\n",
              "      <td>IND</td>\n",
              "      <td>India</td>\n",
              "      <td>2020-02-02</td>\n",
              "      <td>2.0</td>\n",
              "      <td>1.0</td>\n",
              "      <td>0</td>\n",
              "      <td>0.0</td>\n",
              "      <td>0.0</td>\n",
              "      <td>0.001</td>\n",
              "      <td>0.001</td>\n",
              "      <td>0.000</td>\n",
              "      <td>0.000</td>\n",
              "      <td>0.000</td>\n",
              "      <td>0.000</td>\n",
              "      <td>0.0</td>\n",
              "      <td>0.0</td>\n",
              "      <td>0.0</td>\n",
              "      <td>0.000</td>\n",
              "      <td>0.000</td>\n",
              "      <td>0.0</td>\n",
              "      <td>0.000</td>\n",
              "      <td>0.000</td>\n",
              "      <td>0.0</td>\n",
              "      <td>0.0</td>\n",
              "      <td>0</td>\n",
              "      <td>0.00</td>\n",
              "      <td>5.989</td>\n",
              "      <td>6426.674</td>\n",
              "      <td>21.2</td>\n",
              "      <td>282.28</td>\n",
              "      <td>10.39</td>\n",
              "      <td>1.9</td>\n",
              "      <td>20.6</td>\n",
              "      <td>69.66</td>\n",
              "      <td>0.645</td>\n",
              "    </tr>\n",
              "    <tr>\n",
              "      <th>38756</th>\n",
              "      <td>IND</td>\n",
              "      <td>India</td>\n",
              "      <td>2020-02-03</td>\n",
              "      <td>3.0</td>\n",
              "      <td>1.0</td>\n",
              "      <td>0</td>\n",
              "      <td>0.0</td>\n",
              "      <td>0.0</td>\n",
              "      <td>0.002</td>\n",
              "      <td>0.001</td>\n",
              "      <td>0.000</td>\n",
              "      <td>0.000</td>\n",
              "      <td>0.000</td>\n",
              "      <td>0.000</td>\n",
              "      <td>0.0</td>\n",
              "      <td>0.0</td>\n",
              "      <td>0.0</td>\n",
              "      <td>0.000</td>\n",
              "      <td>0.000</td>\n",
              "      <td>0.0</td>\n",
              "      <td>0.000</td>\n",
              "      <td>0.000</td>\n",
              "      <td>0.0</td>\n",
              "      <td>0.0</td>\n",
              "      <td>0</td>\n",
              "      <td>0.00</td>\n",
              "      <td>5.989</td>\n",
              "      <td>6426.674</td>\n",
              "      <td>21.2</td>\n",
              "      <td>282.28</td>\n",
              "      <td>10.39</td>\n",
              "      <td>1.9</td>\n",
              "      <td>20.6</td>\n",
              "      <td>69.66</td>\n",
              "      <td>0.645</td>\n",
              "    </tr>\n",
              "    <tr>\n",
              "      <th>...</th>\n",
              "      <td>...</td>\n",
              "      <td>...</td>\n",
              "      <td>...</td>\n",
              "      <td>...</td>\n",
              "      <td>...</td>\n",
              "      <td>...</td>\n",
              "      <td>...</td>\n",
              "      <td>...</td>\n",
              "      <td>...</td>\n",
              "      <td>...</td>\n",
              "      <td>...</td>\n",
              "      <td>...</td>\n",
              "      <td>...</td>\n",
              "      <td>...</td>\n",
              "      <td>...</td>\n",
              "      <td>...</td>\n",
              "      <td>...</td>\n",
              "      <td>...</td>\n",
              "      <td>...</td>\n",
              "      <td>...</td>\n",
              "      <td>...</td>\n",
              "      <td>...</td>\n",
              "      <td>...</td>\n",
              "      <td>...</td>\n",
              "      <td>...</td>\n",
              "      <td>...</td>\n",
              "      <td>...</td>\n",
              "      <td>...</td>\n",
              "      <td>...</td>\n",
              "      <td>...</td>\n",
              "      <td>...</td>\n",
              "      <td>...</td>\n",
              "      <td>...</td>\n",
              "      <td>...</td>\n",
              "      <td>...</td>\n",
              "    </tr>\n",
              "    <tr>\n",
              "      <th>39240</th>\n",
              "      <td>IND</td>\n",
              "      <td>India</td>\n",
              "      <td>2021-06-01</td>\n",
              "      <td>28307832.0</td>\n",
              "      <td>132788.0</td>\n",
              "      <td>164291</td>\n",
              "      <td>335102.0</td>\n",
              "      <td>3207.0</td>\n",
              "      <td>20512.857</td>\n",
              "      <td>96.223</td>\n",
              "      <td>119.051</td>\n",
              "      <td>242.827</td>\n",
              "      <td>2.324</td>\n",
              "      <td>2.455</td>\n",
              "      <td>0.0</td>\n",
              "      <td>1925374.0</td>\n",
              "      <td>346792257.0</td>\n",
              "      <td>251.298</td>\n",
              "      <td>1.395</td>\n",
              "      <td>2028297.0</td>\n",
              "      <td>1.470</td>\n",
              "      <td>0.081</td>\n",
              "      <td>12.3</td>\n",
              "      <td>213135738.0</td>\n",
              "      <td>43550558</td>\n",
              "      <td>3.16</td>\n",
              "      <td>5.989</td>\n",
              "      <td>6426.674</td>\n",
              "      <td>21.2</td>\n",
              "      <td>282.28</td>\n",
              "      <td>10.39</td>\n",
              "      <td>1.9</td>\n",
              "      <td>20.6</td>\n",
              "      <td>69.66</td>\n",
              "      <td>0.645</td>\n",
              "    </tr>\n",
              "    <tr>\n",
              "      <th>39241</th>\n",
              "      <td>IND</td>\n",
              "      <td>India</td>\n",
              "      <td>2021-06-02</td>\n",
              "      <td>28441986.0</td>\n",
              "      <td>134154.0</td>\n",
              "      <td>153270</td>\n",
              "      <td>337989.0</td>\n",
              "      <td>2887.0</td>\n",
              "      <td>20610.069</td>\n",
              "      <td>97.213</td>\n",
              "      <td>111.065</td>\n",
              "      <td>244.919</td>\n",
              "      <td>2.092</td>\n",
              "      <td>2.355</td>\n",
              "      <td>0.0</td>\n",
              "      <td>3265073.0</td>\n",
              "      <td>350057330.0</td>\n",
              "      <td>253.664</td>\n",
              "      <td>2.366</td>\n",
              "      <td>2177976.0</td>\n",
              "      <td>1.578</td>\n",
              "      <td>0.070</td>\n",
              "      <td>14.2</td>\n",
              "      <td>215678166.0</td>\n",
              "      <td>43811342</td>\n",
              "      <td>3.17</td>\n",
              "      <td>5.989</td>\n",
              "      <td>6426.674</td>\n",
              "      <td>21.2</td>\n",
              "      <td>282.28</td>\n",
              "      <td>10.39</td>\n",
              "      <td>1.9</td>\n",
              "      <td>20.6</td>\n",
              "      <td>69.66</td>\n",
              "      <td>0.645</td>\n",
              "    </tr>\n",
              "    <tr>\n",
              "      <th>39242</th>\n",
              "      <td>IND</td>\n",
              "      <td>India</td>\n",
              "      <td>2021-06-03</td>\n",
              "      <td>28574350.0</td>\n",
              "      <td>132364.0</td>\n",
              "      <td>145556</td>\n",
              "      <td>340702.0</td>\n",
              "      <td>2713.0</td>\n",
              "      <td>20705.985</td>\n",
              "      <td>95.916</td>\n",
              "      <td>105.475</td>\n",
              "      <td>246.885</td>\n",
              "      <td>1.966</td>\n",
              "      <td>2.257</td>\n",
              "      <td>0.0</td>\n",
              "      <td>3725318.0</td>\n",
              "      <td>353782648.0</td>\n",
              "      <td>256.363</td>\n",
              "      <td>2.699</td>\n",
              "      <td>2401899.0</td>\n",
              "      <td>1.741</td>\n",
              "      <td>0.061</td>\n",
              "      <td>16.5</td>\n",
              "      <td>218344384.0</td>\n",
              "      <td>44047467</td>\n",
              "      <td>3.19</td>\n",
              "      <td>5.989</td>\n",
              "      <td>6426.674</td>\n",
              "      <td>21.2</td>\n",
              "      <td>282.28</td>\n",
              "      <td>10.39</td>\n",
              "      <td>1.9</td>\n",
              "      <td>20.6</td>\n",
              "      <td>69.66</td>\n",
              "      <td>0.645</td>\n",
              "    </tr>\n",
              "    <tr>\n",
              "      <th>39243</th>\n",
              "      <td>IND</td>\n",
              "      <td>India</td>\n",
              "      <td>2021-06-04</td>\n",
              "      <td>28694879.0</td>\n",
              "      <td>120529.0</td>\n",
              "      <td>137947</td>\n",
              "      <td>344082.0</td>\n",
              "      <td>3380.0</td>\n",
              "      <td>20793.325</td>\n",
              "      <td>87.340</td>\n",
              "      <td>99.962</td>\n",
              "      <td>249.334</td>\n",
              "      <td>2.449</td>\n",
              "      <td>2.233</td>\n",
              "      <td>0.0</td>\n",
              "      <td>3651198.0</td>\n",
              "      <td>357433846.0</td>\n",
              "      <td>259.009</td>\n",
              "      <td>2.646</td>\n",
              "      <td>2627712.0</td>\n",
              "      <td>1.904</td>\n",
              "      <td>0.000</td>\n",
              "      <td>0.0</td>\n",
              "      <td>223607768.0</td>\n",
              "      <td>44434820</td>\n",
              "      <td>3.22</td>\n",
              "      <td>5.989</td>\n",
              "      <td>6426.674</td>\n",
              "      <td>21.2</td>\n",
              "      <td>282.28</td>\n",
              "      <td>10.39</td>\n",
              "      <td>1.9</td>\n",
              "      <td>20.6</td>\n",
              "      <td>69.66</td>\n",
              "      <td>0.645</td>\n",
              "    </tr>\n",
              "    <tr>\n",
              "      <th>39244</th>\n",
              "      <td>IND</td>\n",
              "      <td>India</td>\n",
              "      <td>2021-06-05</td>\n",
              "      <td>28809339.0</td>\n",
              "      <td>114460.0</td>\n",
              "      <td>130648</td>\n",
              "      <td>346759.0</td>\n",
              "      <td>2677.0</td>\n",
              "      <td>20876.266</td>\n",
              "      <td>82.942</td>\n",
              "      <td>94.672</td>\n",
              "      <td>251.274</td>\n",
              "      <td>1.940</td>\n",
              "      <td>2.152</td>\n",
              "      <td>0.0</td>\n",
              "      <td>0.0</td>\n",
              "      <td>0.0</td>\n",
              "      <td>0.000</td>\n",
              "      <td>0.000</td>\n",
              "      <td>0.0</td>\n",
              "      <td>0.000</td>\n",
              "      <td>0.000</td>\n",
              "      <td>0.0</td>\n",
              "      <td>225571144.0</td>\n",
              "      <td>44599042</td>\n",
              "      <td>3.23</td>\n",
              "      <td>5.989</td>\n",
              "      <td>6426.674</td>\n",
              "      <td>21.2</td>\n",
              "      <td>282.28</td>\n",
              "      <td>10.39</td>\n",
              "      <td>1.9</td>\n",
              "      <td>20.6</td>\n",
              "      <td>69.66</td>\n",
              "      <td>0.645</td>\n",
              "    </tr>\n",
              "  </tbody>\n",
              "</table>\n",
              "<p>493 rows × 35 columns</p>\n",
              "</div>"
            ],
            "text/plain": [
              "      iso_code location  ... life_expectancy  human_development_index\n",
              "38752      IND    India  ...           69.66                    0.645\n",
              "38753      IND    India  ...           69.66                    0.645\n",
              "38754      IND    India  ...           69.66                    0.645\n",
              "38755      IND    India  ...           69.66                    0.645\n",
              "38756      IND    India  ...           69.66                    0.645\n",
              "...        ...      ...  ...             ...                      ...\n",
              "39240      IND    India  ...           69.66                    0.645\n",
              "39241      IND    India  ...           69.66                    0.645\n",
              "39242      IND    India  ...           69.66                    0.645\n",
              "39243      IND    India  ...           69.66                    0.645\n",
              "39244      IND    India  ...           69.66                    0.645\n",
              "\n",
              "[493 rows x 35 columns]"
            ]
          },
          "metadata": {
            "tags": []
          },
          "execution_count": 38
        }
      ]
    },
    {
      "cell_type": "code",
      "metadata": {
        "colab": {
          "base_uri": "https://localhost:8080/",
          "height": 593
        },
        "id": "YBunV2AU1ECu",
        "outputId": "410a093e-b907-4157-957d-0339cdd67484"
      },
      "source": [
        "from fbprophet import Prophet\n",
        "\n",
        "#forecasting Number of Daily Deaths upto 30 days\n",
        "\n",
        "model=Prophet(changepoint_prior_scale=1,daily_seasonality=True,yearly_seasonality=True)\n",
        "model.fit(df_ind)\n",
        "x=model.make_future_dataframe(periods=30,freq='D')\n",
        "forecast=model.predict(x)\n",
        "\n",
        "#pandas plotting\n",
        "model.plot(forecast,figsize=(20,10));"
      ],
      "execution_count": null,
      "outputs": [
        {
          "output_type": "display_data",
          "data": {
            "image/png": "[encoded data removed]",
            "text/plain": [
              "<Figure size 1440x720 with 1 Axes>"
            ]
          },
          "metadata": {
            "tags": []
          }
        }
      ]
    },
    {
      "cell_type": "code",
      "metadata": {
        "id": "d-6RSiPui0Ry",
        "colab": {
          "base_uri": "https://localhost:8080/",
          "height": 989
        },
        "outputId": "2670caf6-de20-47f9-c527-09f95cbf0b69"
      },
      "source": [
        "df2=forecast[['ds','trend','yhat']]\n",
        "df2.tail(30)\n",
        "\n",
        "#Trend for 30 days, forecasting Number of Deaths from May 7th - declination in deaths"
      ],
      "execution_count": null,
      "outputs": [
        {
          "output_type": "execute_result",
          "data": {
            "text/html": [
              "<div>\n",
              "<style scoped>\n",
              "    .dataframe tbody tr th:only-of-type {\n",
              "        vertical-align: middle;\n",
              "    }\n",
              "\n",
              "    .dataframe tbody tr th {\n",
              "        vertical-align: top;\n",
              "    }\n",
              "\n",
              "    .dataframe thead th {\n",
              "        text-align: right;\n",
              "    }\n",
              "</style>\n",
              "<table border=\"1\" class=\"dataframe\">\n",
              "  <thead>\n",
              "    <tr style=\"text-align: right;\">\n",
              "      <th></th>\n",
              "      <th>ds</th>\n",
              "      <th>trend</th>\n",
              "      <th>yhat</th>\n",
              "    </tr>\n",
              "  </thead>\n",
              "  <tbody>\n",
              "    <tr>\n",
              "      <th>493</th>\n",
              "      <td>2021-06-06</td>\n",
              "      <td>-1228.920382</td>\n",
              "      <td>2759.879602</td>\n",
              "    </tr>\n",
              "    <tr>\n",
              "      <th>494</th>\n",
              "      <td>2021-06-07</td>\n",
              "      <td>-1241.852674</td>\n",
              "      <td>2646.479130</td>\n",
              "    </tr>\n",
              "    <tr>\n",
              "      <th>495</th>\n",
              "      <td>2021-06-08</td>\n",
              "      <td>-1254.784966</td>\n",
              "      <td>2667.432198</td>\n",
              "    </tr>\n",
              "    <tr>\n",
              "      <th>496</th>\n",
              "      <td>2021-06-09</td>\n",
              "      <td>-1267.717259</td>\n",
              "      <td>2560.553155</td>\n",
              "    </tr>\n",
              "    <tr>\n",
              "      <th>497</th>\n",
              "      <td>2021-06-10</td>\n",
              "      <td>-1280.649551</td>\n",
              "      <td>2470.804274</td>\n",
              "    </tr>\n",
              "    <tr>\n",
              "      <th>498</th>\n",
              "      <td>2021-06-11</td>\n",
              "      <td>-1293.581843</td>\n",
              "      <td>2406.463989</td>\n",
              "    </tr>\n",
              "    <tr>\n",
              "      <th>499</th>\n",
              "      <td>2021-06-12</td>\n",
              "      <td>-1306.514136</td>\n",
              "      <td>2309.343087</td>\n",
              "    </tr>\n",
              "    <tr>\n",
              "      <th>500</th>\n",
              "      <td>2021-06-13</td>\n",
              "      <td>-1319.446428</td>\n",
              "      <td>2206.637313</td>\n",
              "    </tr>\n",
              "    <tr>\n",
              "      <th>501</th>\n",
              "      <td>2021-06-14</td>\n",
              "      <td>-1332.378720</td>\n",
              "      <td>2096.789326</td>\n",
              "    </tr>\n",
              "    <tr>\n",
              "      <th>502</th>\n",
              "      <td>2021-06-15</td>\n",
              "      <td>-1345.311013</td>\n",
              "      <td>2121.438269</td>\n",
              "    </tr>\n",
              "    <tr>\n",
              "      <th>503</th>\n",
              "      <td>2021-06-16</td>\n",
              "      <td>-1358.243305</td>\n",
              "      <td>2018.347553</td>\n",
              "    </tr>\n",
              "    <tr>\n",
              "      <th>504</th>\n",
              "      <td>2021-06-17</td>\n",
              "      <td>-1371.175597</td>\n",
              "      <td>1932.448627</td>\n",
              "    </tr>\n",
              "    <tr>\n",
              "      <th>505</th>\n",
              "      <td>2021-06-18</td>\n",
              "      <td>-1384.107890</td>\n",
              "      <td>1872.007329</td>\n",
              "    </tr>\n",
              "    <tr>\n",
              "      <th>506</th>\n",
              "      <td>2021-06-19</td>\n",
              "      <td>-1397.040182</td>\n",
              "      <td>1778.837896</td>\n",
              "    </tr>\n",
              "    <tr>\n",
              "      <th>507</th>\n",
              "      <td>2021-06-20</td>\n",
              "      <td>-1409.972474</td>\n",
              "      <td>1680.153158</td>\n",
              "    </tr>\n",
              "    <tr>\n",
              "      <th>508</th>\n",
              "      <td>2021-06-21</td>\n",
              "      <td>-1422.904766</td>\n",
              "      <td>1574.423925</td>\n",
              "    </tr>\n",
              "    <tr>\n",
              "      <th>509</th>\n",
              "      <td>2021-06-22</td>\n",
              "      <td>-1435.837059</td>\n",
              "      <td>1603.325922</td>\n",
              "    </tr>\n",
              "    <tr>\n",
              "      <th>510</th>\n",
              "      <td>2021-06-23</td>\n",
              "      <td>-1448.769351</td>\n",
              "      <td>1504.664932</td>\n",
              "    </tr>\n",
              "    <tr>\n",
              "      <th>511</th>\n",
              "      <td>2021-06-24</td>\n",
              "      <td>-1461.701643</td>\n",
              "      <td>1423.417991</td>\n",
              "    </tr>\n",
              "    <tr>\n",
              "      <th>512</th>\n",
              "      <td>2021-06-25</td>\n",
              "      <td>-1474.633936</td>\n",
              "      <td>1367.897297</td>\n",
              "    </tr>\n",
              "    <tr>\n",
              "      <th>513</th>\n",
              "      <td>2021-06-26</td>\n",
              "      <td>-1487.566228</td>\n",
              "      <td>1279.961949</td>\n",
              "    </tr>\n",
              "    <tr>\n",
              "      <th>514</th>\n",
              "      <td>2021-06-27</td>\n",
              "      <td>-1500.498520</td>\n",
              "      <td>1186.866107</td>\n",
              "    </tr>\n",
              "    <tr>\n",
              "      <th>515</th>\n",
              "      <td>2021-06-28</td>\n",
              "      <td>-1513.430813</td>\n",
              "      <td>1087.116596</td>\n",
              "    </tr>\n",
              "    <tr>\n",
              "      <th>516</th>\n",
              "      <td>2021-06-29</td>\n",
              "      <td>-1526.363105</td>\n",
              "      <td>1122.418361</td>\n",
              "    </tr>\n",
              "    <tr>\n",
              "      <th>517</th>\n",
              "      <td>2021-06-30</td>\n",
              "      <td>-1539.295397</td>\n",
              "      <td>1030.598415</td>\n",
              "    </tr>\n",
              "    <tr>\n",
              "      <th>518</th>\n",
              "      <td>2021-07-01</td>\n",
              "      <td>-1552.227690</td>\n",
              "      <td>956.646177</td>\n",
              "    </tr>\n",
              "    <tr>\n",
              "      <th>519</th>\n",
              "      <td>2021-07-02</td>\n",
              "      <td>-1565.159982</td>\n",
              "      <td>908.876810</td>\n",
              "    </tr>\n",
              "    <tr>\n",
              "      <th>520</th>\n",
              "      <td>2021-07-03</td>\n",
              "      <td>-1578.092274</td>\n",
              "      <td>829.142707</td>\n",
              "    </tr>\n",
              "    <tr>\n",
              "      <th>521</th>\n",
              "      <td>2021-07-04</td>\n",
              "      <td>-1591.024567</td>\n",
              "      <td>744.681683</td>\n",
              "    </tr>\n",
              "    <tr>\n",
              "      <th>522</th>\n",
              "      <td>2021-07-05</td>\n",
              "      <td>-1603.956859</td>\n",
              "      <td>653.974866</td>\n",
              "    </tr>\n",
              "  </tbody>\n",
              "</table>\n",
              "</div>"
            ],
            "text/plain": [
              "            ds        trend         yhat\n",
              "493 2021-06-06 -1228.920382  2759.879602\n",
              "494 2021-06-07 -1241.852674  2646.479130\n",
              "495 2021-06-08 -1254.784966  2667.432198\n",
              "496 2021-06-09 -1267.717259  2560.553155\n",
              "497 2021-06-10 -1280.649551  2470.804274\n",
              "498 2021-06-11 -1293.581843  2406.463989\n",
              "499 2021-06-12 -1306.514136  2309.343087\n",
              "500 2021-06-13 -1319.446428  2206.637313\n",
              "501 2021-06-14 -1332.378720  2096.789326\n",
              "502 2021-06-15 -1345.311013  2121.438269\n",
              "503 2021-06-16 -1358.243305  2018.347553\n",
              "504 2021-06-17 -1371.175597  1932.448627\n",
              "505 2021-06-18 -1384.107890  1872.007329\n",
              "506 2021-06-19 -1397.040182  1778.837896\n",
              "507 2021-06-20 -1409.972474  1680.153158\n",
              "508 2021-06-21 -1422.904766  1574.423925\n",
              "509 2021-06-22 -1435.837059  1603.325922\n",
              "510 2021-06-23 -1448.769351  1504.664932\n",
              "511 2021-06-24 -1461.701643  1423.417991\n",
              "512 2021-06-25 -1474.633936  1367.897297\n",
              "513 2021-06-26 -1487.566228  1279.961949\n",
              "514 2021-06-27 -1500.498520  1186.866107\n",
              "515 2021-06-28 -1513.430813  1087.116596\n",
              "516 2021-06-29 -1526.363105  1122.418361\n",
              "517 2021-06-30 -1539.295397  1030.598415\n",
              "518 2021-07-01 -1552.227690   956.646177\n",
              "519 2021-07-02 -1565.159982   908.876810\n",
              "520 2021-07-03 -1578.092274   829.142707\n",
              "521 2021-07-04 -1591.024567   744.681683\n",
              "522 2021-07-05 -1603.956859   653.974866"
            ]
          },
          "metadata": {
            "tags": []
          },
          "execution_count": 40
        }
      ]
    },
    {
      "cell_type": "code",
      "metadata": {
        "id": "hmP3rG4xi0Rz",
        "colab": {
          "base_uri": "https://localhost:8080/",
          "height": 873
        },
        "outputId": "ffbca8a9-eb1e-467d-dfc9-582073ab8964"
      },
      "source": [
        "#componential visualization of forecast dataframe in terms of daily, weekly and yearly\n",
        "\n",
        "fig2 = model.plot_components(forecast)"
      ],
      "execution_count": null,
      "outputs": [
        {
          "output_type": "display_data",
          "data": {
            "image/png": "[encoded data removed]",
            "text/plain": [
              "<Figure size 648x864 with 4 Axes>"
            ]
          },
          "metadata": {
            "tags": []
          }
        }
      ]
    }
  ]
}